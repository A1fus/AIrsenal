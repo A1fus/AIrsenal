{
 "cells": [
  {
   "cell_type": "code",
   "execution_count": 1,
   "metadata": {},
   "outputs": [],
   "source": [
    "import pygmo as pg  # See https://esa.github.io/pygmo2/install.html for installation (conda instructions)\n",
    "\n",
    "import numpy as np\n",
    "import pandas as pd\n",
    "from time import time\n",
    "\n",
    "from airsenal.framework.utils import NEXT_GAMEWEEK, CURRENT_SEASON, list_players, get_latest_prediction_tag\n",
    "from airsenal.framework.team import Team"
   ]
  },
  {
   "cell_type": "code",
   "execution_count": 2,
   "metadata": {},
   "outputs": [],
   "source": [
    "gw_start = NEXT_GAMEWEEK\n",
    "num_gw = 3\n",
    "gw_range = list(range(gw_start, min(38, num_gw)))\n",
    "\n",
    "tag = get_latest_prediction_tag()\n",
    "\n",
    "#positions = [\"FWD\", \"MID\", \"DEF\", \"GK\"]\n",
    "#pts = {}\n",
    "#for pos in positions:\n",
    "#    pts[pos] = get_predicted_points(gw_range, tag, position=pos)\n",
    "    \n",
    "#pts = get_predicted_points(gw_range, tag)"
   ]
  },
  {
   "cell_type": "code",
   "execution_count": 3,
   "metadata": {},
   "outputs": [],
   "source": [
    "# PyGMO User Defined Problem\n",
    "class OptTeam:\n",
    "    def __init__(self, gw_range, tag, budget=100, season=CURRENT_SEASON, bench_boost_gw=None, triple_captain_gw=None):\n",
    "        self.gw_range = gw_range\n",
    "        self.start_gw = min(gw_range)\n",
    "        self.tag = tag\n",
    "        self.n_players = 15\n",
    "        self.budget = budget\n",
    "        self.season = season\n",
    "        players = list_players(season=season, gameweek=self.start_gw)\n",
    "        self.min_id = min([p.player_id for p in players])\n",
    "        self.max_id = max([p.player_id for p in players])\n",
    "        self.bench_boost_gw = bench_boost_gw\n",
    "        self.triple_captain_gw = triple_captain_gw\n",
    "\n",
    "          \n",
    "    def fitness(self, player_ids):\n",
    "        \"\"\"\n",
    "        PyGMO required function.\n",
    "        The objective function to minimise. And constraints to evaluate.\n",
    "        \"\"\"\n",
    "        # Make team from player IDs\n",
    "        team = Team()\n",
    "        for idx in player_ids:\n",
    "            team.add_player(int(idx), season=self.season, gameweek=self.start_gw)\n",
    "            \n",
    "        # Check team is valid\n",
    "        if not team.is_complete():\n",
    "            return [0]\n",
    "        \n",
    "        # Calc expected points\n",
    "        score = 0.0\n",
    "        for gw in self.gw_range:\n",
    "            if gw == self.bench_boost_gw:\n",
    "                score += team.get_expected_points(gw, self.tag, bench_boost=True)\n",
    "            elif gw == self.triple_captain_gw:\n",
    "                score += team.get_expected_points(gw, self.tag, triple_captain=True)\n",
    "            else:\n",
    "                score += team.get_expected_points(gw, self.tag)\n",
    "        \n",
    "        return [-score]\n",
    "    \n",
    "    def get_bounds(self):\n",
    "        \"\"\"\n",
    "        PyGMO required function.\n",
    "        Defines min and max value for each parameter.\n",
    "        \"\"\"\n",
    "        return ([self.min_id]*self.n_players, [self.max_id]*self.n_players)\n",
    "    \n",
    "    def get_nec(self):\n",
    "        \"\"\"PyGMO function.\n",
    "        Defines number of equality constraints.\"\"\"\n",
    "        return 0\n",
    "    \n",
    "    def get_nix(self):\n",
    "        \"\"\"\n",
    "        PyGMO function.\n",
    "        Number of integer dimensions.\n",
    "        \"\"\"\n",
    "        return self.n_players\n",
    "    \n",
    "    def gradient(self, x):\n",
    "        return pg.estimate_gradient_h(lambda x: self.fitness(x), x)\n",
    "    \n"
   ]
  },
  {
   "cell_type": "code",
   "execution_count": 4,
   "metadata": {},
   "outputs": [
    {
     "name": "stdout",
     "output_type": "stream",
     "text": [
      "Problem name: <class '__main__.OptTeam'>\n",
      "\tGlobal dimension:\t\t\t15\n",
      "\tInteger dimension:\t\t\t15\n",
      "\tFitness dimension:\t\t\t1\n",
      "\tNumber of objectives:\t\t\t1\n",
      "\tEquality constraints dimension:\t\t0\n",
      "\tInequality constraints dimension:\t0\n",
      "\tLower bounds: [1, 1, 1, 1, 1, ... ]\n",
      "\tUpper bounds: [483, 483, 483, 483, 483, ... ]\n",
      "\tHas batch fitness evaluation: false\n",
      "\n",
      "\tHas gradient: true\n",
      "\tUser implemented gradient sparsity: false\n",
      "\tExpected gradients: 15\n",
      "\tHas hessians: false\n",
      "\tUser implemented hessians sparsity: false\n",
      "\n",
      "\tFitness evaluations: 0\n",
      "\tGradient evaluations: 0\n",
      "\n",
      "\tThread safety: none\n",
      "\n"
     ]
    }
   ],
   "source": [
    "# Build problem\n",
    "opt_team = OptTeam(\n",
    "    gw_range,\n",
    "    tag,\n",
    ")\n",
    "\n",
    "prob = pg.problem(opt_team)\n",
    "\n",
    "print(prob)"
   ]
  },
  {
   "cell_type": "code",
   "execution_count": 5,
   "metadata": {},
   "outputs": [
    {
     "name": "stdout",
     "output_type": "stream",
     "text": [
      "Algorithm name: GACO: Ant Colony Optimization [stochastic]\n",
      "\tThread safety: basic\n",
      "\n",
      "Extra info:\n",
      "\tGenerations: 100\n",
      "\tAccuracy parameter: 0.01\n",
      "\tImprovement stopping criterion: 100000\n",
      "\tEvaluation stopping criterion: 100000\n",
      "\tFocus parameter: 0\n",
      "\tKernel: 63\n",
      "\tOracle parameter: 0\n",
      "\tPseudo-random number generator (Marsenne Twister 19937): 2942857457 3008076512 3336899884 1018518158 1659156490 386367324 1688304466 2180649670 1326467932 894271674 2123191148 3546431244 116058103 4237407104 3407998397 4107237893 2085771886 1810633948 3109650499 4089012920 4111927003 1420249933 207642898 3044470321 1154106679 256980071 1659227069 3772054855 1282232304 2189394738 2412999182 348678875 3292420999 4230987573 245651056 1445464659 1267725438 488402240 2943244902 3987025307 2260292896 26986643 2161233193 3653170466 3110887217 1159256652 62674319 3992995994 2502264205 3878697116 2762763757 342181502 1411399146 1195913452 337978039 4181434730 4089896869 3232764599 2993009982 348232935 2343274079 3458123758 1050523071 2796874650 681397048 3789006169 4278675140 1465715654 2306090183 2145578750 57131489 400025356 1411879940 2314670914 780654730 843073725 4084520925 598800611 1547218141 1088548635 63848338 895629035 1133538825 1427485051 2145341302 1424099656 2166668067 2777251164 4175938670 2525615194 359390994 3748504693 444532970 1716108975 1894078724 3527593048 2922664775 504874906 107555364 637985943 2771255031 491369486 3553724396 1056082098 1974808738 2146986936 1823965543 2859443113 2588874211 3104836402 664869470 977122693 320850665 1736490846 198072301 2029094388 4255971101 256806219 2494030349 10434402 1327647778 1815856456 3777488711 844997199 3203813543 4174978710 286903879 646144386 59902666 334126131 1345498017 4080424611 3878407588 3102179944 554118744 1141530943 919899134 1555573183 1865492096 2777037424 3562672518 2441877254 3048356130 532851247 808012827 2462218808 3384361844 3346222470 2677850893 2258959488 700920288 4066872823 3749615068 406747284 3141060350 13065735 2250954847 54272590 1295468388 2613524600 371757762 1339668779 3441657908 3765120342 4275986477 2557907147 1539420403 3384431137 3815021074 4019905118 3620344923 4127530851 695189900 2189379817 3165292645 3776442450 1547970981 883503717 1333522315 1943821349 1480302312 1542415266 3745090309 843321365 2382927361 4290759400 984601201 2886959184 1838908182 3240298448 751239677 4101975696 3491695551 1537949165 270973662 3713697881 2049308230 834087368 655852718 185235309 889549769 3432792086 4102260243 1158837531 1286151694 3862422456 3674795157 4047216125 2382644230 3694197349 4129120528 2114943058 1371792531 4019802223 1450870642 3908631606 1789320897 2018157209 4171071186 45605456 1792612972 197575390 4291145844 3148828370 3305597168 364606400 237398946 1848650189 1945283168 814883370 85325176 407834943 4096099779 262243753 2397056407 1911142836 1972052565 898596881 2577244323 1183680884 2996427033 530520984 2159164394 2881014651 1092290737 2753601125 4269055641 454622649 213064693 4233307554 4283957887 946952167 3356708383 925814281 1073290123 4057088470 2516711177 2705873752 3521459588 3821297222 2731482941 2183728096 4240155440 448966438 2425647366 1109900189 1314357654 4227920030 3178099709 3555572648 468094597 1709074568 3731853341 250997479 1644973365 1352092311 347386946 2777706783 4065339015 1004001067 612034575 3608581636 6549725 1969179980 3893540221 2968783315 3661609363 140658415 2873418859 4215885710 140105923 2445795602 1656577140 778246222 3879491052 2991837042 555993176 3552388065 352394068 274447695 229242967 3629550208 3084501469 1925371178 2199854631 3513496266 4054457215 1899377951 3366061066 3293800898 1757938523 1881832889 236131024 105364809 3617112071 3189892815 4085171485 4099068947 1150958478 2409760682 1990061704 2729799246 1571762494 2754749982 2029127248 2501171258 2188855134 298017939 1458461255 3661829351 3303097150 3431345500 3503341255 4291700897 3028466488 3294357809 543998986 2484646723 4168319735 1532182423 2583256450 3236652245 531582916 808869291 3510663375 1823004117 2178339326 1040496071 3918804959 3496134441 1035210480 1553487375 1351185126 3976787332 4204732069 3870813921 1435906702 3677977296 2687328677 2595940170 3296381136 3148818344 2516230524 3737134625 421871318 3660337627 674292646 1185392621 3228994956 2473615836 2764598280 1898576741 752137192 1334453245 2594574306 3508741335 3277782300 3922228660 4011221421 1641851169 3530611484 2107837368 816358011 3336105734 815987577 1429207358 2903051869 2514256894 243658736 936319797 4105706095 1538931235 3364037362 3926311838 2292527995 3322417480 2407331619 712321682 905965352 2936915031 2832397337 2425996088 616173940 2062284887 3646488962 3631391354 997973075 3406518614 2073804065 3364339513 1970961788 283535596 1736553144 769623450 1457856864 3169457636 1868348254 3279209756 308829661 3933425364 277883767 342152856 13108126 439024893 4215551609 2556873163 1929981687 1568353977 3030509636 3407354699 638864662 1188901213 2117252860 2866452610 2405084210 171679907 452107523 114527972 19621290 791484361 822342917 1137858994 1273180249 4159253619 248936940 2270259161 783232549 164758360 2064477048 3072207230 3581787054 2714083844 2362975266 3111871077 1512567657 2061349327 3795871246 6306282 4066055452 68546054 1664229418 4213880260 3750901841 2534546473 879043015 2875905108 3810643392 2546502338 4288642964 1716922216 3673407299 239318551 2345281515 3111940550 2471938094 2609940279 3335763653 1170281467 3702762880 1028886926 3451874534 873432378 4110523332 3161519718 3106454360 4039841383 2077711194 4283940814 1843290825 1863451345 1229745658 3084892402 2479646876 938726979 2964481373 138073962 1482995906 401752544 1693769554 4284778674 4171737289 2835329959 159919887 1095932386 4079367047 2017458445 2363010998 1165010943 1867200306 798757916 2887445770 716230183 2368026211 40853318 3000438432 1679522285 411723808 422852261 4250590751 2021302035 419391010 2908323699 1905902239 354572385 243255633 3361589250 554660723 4228258158 1610506001 1504383841 4118611698 2678175784 1199711398 1351014136 3675067219 2997776551 2308816945 2088575288 146054807 574775982 633474754 4274235047 4124738770 3187753364 3048351822 820941853 1143928467 1585015741 2192777040 3752607615 2035444242 3805087398 4260687425 2700170291 2660987519 2701398652 1576188898 3733298620 811300233 146453052 2326687708 3351376583 3989548422 2883232940 3089504474 3627771757 1439411868 3692620584 3185298735 549456378 1861270492 4170081644 3732893191 2890042833 2028790141 4102313003 1985388040 687746254 1407446408 1573522000 2490527033 2922818956 2773842252 835034125 601131113 3870885046 2272705203 3264701216 1136450075 3102734479 2861270767 2696680144 738447658 3633775075 3501498290 177191976 461284892 4204824417 3581337088 717894790 260862262 729322151 597572925 618582124 208013560 1574323253 2104803042 4117482734 447590625 1012282406 1693772640 1111410856 2227609105 58297060 1719915098 571585358 3104996910 3976549829 1047252872 1599122195 199107206 147281739 728339973 3625181032\n",
      "\tSeed: 2942857457\n",
      "\tVerbosity: 1\n"
     ]
    }
   ],
   "source": [
    "# Create algorithm to solve problem with\n",
    "#algo = pg.algorithm(uda = pg.sga(gen=3))\n",
    "algo = pg.algorithm(uda = pg.gaco(gen=100))\n",
    "#algo = pg.algorithm(uda = pg.ihs(gen=1000))\n",
    "algo.set_verbosity(1)\n",
    "print(algo)\n",
    "\n",
    "# population of problems\n",
    "pop = pg.population(prob=prob, size=1000)\n"
   ]
  },
  {
   "cell_type": "code",
   "execution_count": 6,
   "metadata": {},
   "outputs": [
    {
     "name": "stdout",
     "output_type": "stream",
     "text": [
      "Best score: 70.95075274817736 pts\n"
     ]
    }
   ],
   "source": [
    "# solve problem\n",
    "pop = algo.evolve(pop)\n",
    "\n",
    "print(\"Best score:\", -pop.champion_f[0], \"pts\")"
   ]
  },
  {
   "cell_type": "code",
   "execution_count": 7,
   "metadata": {},
   "outputs": [
    {
     "name": "stdout",
     "output_type": "stream",
     "text": [
      "GW1: 37 pts\n",
      "\n",
      "=== starting 11 ===\n",
      "\n",
      "\n",
      "== GK ==\n",
      "\n",
      "Martin Dubravka (NEW)\n",
      "\n",
      "== DEF ==\n",
      "\n",
      "Tyrick Mitchell (CRY)\n",
      "Toby Alderweireld (TOT)\n",
      "Trent Alexander-Arnold (LIV)(C)\n",
      "Luke Thomas (LEI)(VC)\n",
      "George Baldock (SHU)\n",
      "\n",
      "== MID ==\n",
      "\n",
      "James Maddison (LEI)\n",
      "John Fleck (SHU)\n",
      "Matteo Guendouzi (ARS)\n",
      "\n",
      "== FWD ==\n",
      "\n",
      "Andy Carroll (NEW)\n",
      "Lys Mousset (SHU)\n",
      "\n",
      "=== subs ===\n",
      "\n",
      "Anwar El Ghazi (AVL)\n",
      "Odion Ighalo (MUN)\n",
      "Harry Wilson (LIV)\n",
      "Illan Meslier (LEE)\n",
      "\n"
     ]
    }
   ],
   "source": [
    "team = Team()\n",
    "for idx in pop.champion_x:\n",
    "    team.add_player(int(idx), season=opt_team.season, gameweek=opt_team.start_gw)\n",
    "\n",
    "pts = team.get_expected_points(opt_team.start_gw, tag)\n",
    "print(f\"GW{opt_team.start_gw}: {pts:.0f} pts\")\n",
    "print(team)"
   ]
  },
  {
   "cell_type": "code",
   "execution_count": null,
   "metadata": {},
   "outputs": [],
   "source": []
  }
 ],
 "metadata": {
  "kernelspec": {
   "display_name": "Python 3",
   "language": "python",
   "name": "python3"
  },
  "language_info": {
   "codemirror_mode": {
    "name": "ipython",
    "version": 3
   },
   "file_extension": ".py",
   "mimetype": "text/x-python",
   "name": "python",
   "nbconvert_exporter": "python",
   "pygments_lexer": "ipython3",
   "version": "3.7.4"
  }
 },
 "nbformat": 4,
 "nbformat_minor": 2
}
