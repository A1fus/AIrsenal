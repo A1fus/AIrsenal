{
 "cells": [
  {
   "cell_type": "code",
   "execution_count": null,
   "metadata": {},
   "outputs": [],
   "source": [
    "import sys\n",
    "sys.path.append(\"..\")\n",
    "\n",
    "import bpl\n",
    "import matplotlib.pyplot as plt\n",
    "import numpy as np\n",
    "import pandas as pd\n",
    "import pystan\n",
    "import seaborn as sns\n",
    "\n",
    "from framework.utils import *\n",
    "\n",
    "np.random.seed(42)"
   ]
  },
  {
   "cell_type": "code",
   "execution_count": null,
   "metadata": {
    "collapsed": true
   },
   "outputs": [],
   "source": [
    "%matplotlib inline"
   ]
  },
  {
   "cell_type": "markdown",
   "metadata": {},
   "source": [
    "# Testing player level code"
   ]
  },
  {
   "cell_type": "code",
   "execution_count": null,
   "metadata": {},
   "outputs": [],
   "source": [
    "model = pystan.StanModel(file=\"player_forecasts.stan\")"
   ]
  },
  {
   "cell_type": "code",
   "execution_count": null,
   "metadata": {
    "collapsed": true
   },
   "outputs": [],
   "source": [
    "# numbers of players and matches\n",
    "n_player = 500\n",
    "n_match = 30\n",
    "\n",
    "# goals scored by team\n",
    "goals = np.random.poisson(lam=2.0, size=(n_player, n_match))\n",
    "\n",
    "# player level parameters\n",
    "theta = np.random.dirichlet(np.ones(3), size=n_player)\n",
    "\n",
    "# minutes played\n",
    "minutes = np.clip(\n",
    "    np.random.normal(loc=60., scale=10., size=(n_player, n_match)),\n",
    "    0.0,\n",
    "    90.0\n",
    ")\n",
    "\n",
    "# augmented scoring probabilities\n",
    "theta_aug = np.array([\n",
    "    [theta[i, 0]*(minutes[i, j] / 90.0), \n",
    "     theta[i, 1]*(minutes[i, j] / 90.0),\n",
    "     theta[i, 2]*(minutes[i, j] / 90.0) + (90.0 - minutes[i, j]) / 90.0]\n",
    "    for i in range(n_player)\n",
    "    for j in range(n_match)\n",
    "]).reshape(n_player, n_match, 3)\n",
    "\n",
    "# results for the player\n",
    "y = np.array([\n",
    "    np.random.multinomial(goals[i, j], theta_aug[i, j])\n",
    "    for i in range(n_player)\n",
    "    for j in range(n_match)\n",
    "]).reshape(n_player, n_match, 3)"
   ]
  },
  {
   "cell_type": "code",
   "execution_count": null,
   "metadata": {
    "collapsed": true
   },
   "outputs": [],
   "source": [
    "stan_data = dict(\n",
    "    nplayer=n_player,\n",
    "    nmatch=n_match,\n",
    "    minutes=minutes,\n",
    "    y=y\n",
    ")"
   ]
  },
  {
   "cell_type": "code",
   "execution_count": null,
   "metadata": {},
   "outputs": [],
   "source": [
    "fit = model.optimizing(stan_data)"
   ]
  },
  {
   "cell_type": "markdown",
   "metadata": {},
   "source": [
    "## Test on real data\n",
    "\n",
    "### 1. Fit the team level model"
   ]
  },
  {
   "cell_type": "code",
   "execution_count": null,
   "metadata": {},
   "outputs": [],
   "source": [
    "df_past = pd.DataFrame(np.array([[s.date, s.home_team, s.away_team, s.home_score, s.away_score]\n",
    "                        for s in session.query(Match).all()]),\n",
    "             columns=[\"date\", \"home_team\", \"away_team\", \"home_goals\", \"away_goals\"])\n",
    "df_past[\"home_goals\"] = df_past[\"home_goals\"].astype(int)\n",
    "df_past[\"away_goals\"] = df_past[\"away_goals\"].astype(int)\n",
    "df_past[\"date\"] = pd.to_datetime(df_past[\"date\"])\n",
    "df_past = df_past[df_past[\"date\"] > \"2016-08-01\"]"
   ]
  },
  {
   "cell_type": "code",
   "execution_count": null,
   "metadata": {},
   "outputs": [],
   "source": [
    "model = bpl.BPLModel(df_past)\n",
    "model.fit()"
   ]
  },
  {
   "cell_type": "markdown",
   "metadata": {},
   "source": [
    "## 2. Fit player level model"
   ]
  },
  {
   "cell_type": "code",
   "execution_count": null,
   "metadata": {},
   "outputs": [],
   "source": [
    "def get_empirical_bayes_estimates(df_emp):\n",
    "    # this is wrong\n",
    "    df = df_emp.copy()\n",
    "    df = df[df[\"minutes\"] == 90.0]\n",
    "    a0 = (df[\"goals\"] / df[\"team_goals\"]).fillna(1.).mean()\n",
    "    a1 = (df[\"assists\"] / df[\"team_goals\"]).fillna(1.).mean()\n",
    "    a2 = (df[\"neither\"] / df[\"team_goals\"]).fillna(1.).mean()\n",
    "    print(a0, a1, a2)\n",
    "    alpha = np.array([a0, a1, a2])\n",
    "    n_eff = df.groupby(\"player_name\").count()[\"match_id\"].mean()\n",
    "    alpha = alpha * df[\"team_goals\"].mean() *  n_eff\n",
    "    return alpha\n",
    "\n",
    "def process_player_data(prefix):\n",
    "    df = pd.read_csv(\"../data/player_history_{}.csv\".format(prefix))\n",
    "    df[\"neither\"] = df[\"team_goals\"] - df[\"goals\"] - df[\"assists\"]\n",
    "    alpha = get_empirical_bayes_estimates(df)\n",
    "    y = df.sort_values(\"player_name\")[\n",
    "        [\"goals\", \"assists\", \"neither\"]\n",
    "    ].values.reshape((df[\"player_name\"].nunique(),\n",
    "                      df.groupby(\"player_name\").count().iloc[0][\"player_id\"],\n",
    "                      3))\n",
    "\n",
    "    minutes = df.sort_values(\"player_name\")[\n",
    "        \"minutes\"\n",
    "    ].values.reshape((df[\"player_name\"].nunique(),\n",
    "                      df.groupby(\"player_name\").count().iloc[0][\"player_id\"]))\n",
    "\n",
    "    nplayer = df[\"player_name\"].nunique()\n",
    "    nmatch = df.groupby(\"player_name\").count().iloc[0][\"player_id\"]\n",
    "    player_names = np.sort(df[\"player_name\"].unique())\n",
    "    return dict(\n",
    "        nplayer=nplayer, \n",
    "        nmatch=nmatch,\n",
    "        minutes=minutes,\n",
    "        y=y,\n",
    "        alpha=alpha\n",
    "    ), player_names\n",
    "\n",
    "def fit_data(prefix, model):\n",
    "    data, names = process_player_data(prefix)\n",
    "    fit = model.optimizing(data)\n",
    "    df = pd.DataFrame(\n",
    "        fit[\"theta\"],\n",
    "        columns=[\"pr_score\", \"pr_assist\", \"pr_neither\"]\n",
    "    ).set_index(names).reset_index()\n",
    "    df[\"pos\"] = prefix\n",
    "    return df\n",
    "\n",
    "def fit_all_data(model):\n",
    "    df = pd.DataFrame()\n",
    "    return pd.concat(\n",
    "        [fit_data(prefix, model) for prefix in [\"FWD\", \"MID\", \"DEF\"]]\n",
    "    ).rename(\n",
    "        columns={\"index\": \"player_name\"}\n",
    "    ).sort_values(\"player_name\").set_index(\"player_name\")"
   ]
  }
 ],
 "metadata": {
  "kernelspec": {
   "display_name": "Python 3",
   "language": "python",
   "name": "python3"
  },
  "language_info": {
   "codemirror_mode": {
    "name": "ipython",
    "version": 3
   },
   "file_extension": ".py",
   "mimetype": "text/x-python",
   "name": "python",
   "nbconvert_exporter": "python",
   "pygments_lexer": "ipython3",
   "version": "3.6.2"
  }
 },
 "nbformat": 4,
 "nbformat_minor": 2
}
