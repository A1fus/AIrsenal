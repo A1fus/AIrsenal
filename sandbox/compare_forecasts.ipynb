{
 "cells": [
  {
   "cell_type": "code",
   "execution_count": null,
   "metadata": {},
   "outputs": [],
   "source": [
    "import sys\n",
    "sys.path.append(\"..\")\n",
    "\n",
    "import matplotlib.pyplot as plt\n",
    "import numpy as np\n",
    "import pandas as pd\n",
    "import seaborn as sns\n",
    "\n",
    "from framework.utils import *\n",
    "%matplotlib inline"
   ]
  },
  {
   "cell_type": "markdown",
   "metadata": {},
   "source": [
    "# Comparing forecasts to FPL API values\n",
    "\n",
    "The FPL API provides forecasts for the next gameweek. This notebook compares our forecasts to these."
   ]
  },
  {
   "cell_type": "code",
   "execution_count": null,
   "metadata": {},
   "outputs": [],
   "source": [
    "plt.rcParams[\"figure.figsize\"] = (10, 5)"
   ]
  },
  {
   "cell_type": "code",
   "execution_count": null,
   "metadata": {
    "collapsed": true
   },
   "outputs": [],
   "source": [
    "our_preds = session.query(PlayerPrediction).all()\n",
    "fpl_preds = FPLDataFetcher().get_player_summary_data()"
   ]
  },
  {
   "cell_type": "code",
   "execution_count": null,
   "metadata": {
    "collapsed": true
   },
   "outputs": [],
   "source": [
    "def make_our_df_row(pred):\n",
    "    df = pd.DataFrame()\n",
    "    df[\"id\"] = [pred.player_id]\n",
    "    df[\"predicted_points\"] = [pred.predicted_points]\n",
    "    df[\"gameweek\"] = [pred.gameweek]\n",
    "    df[\"method\"] = [pred.method]\n",
    "    return df\n",
    "\n",
    "def make_fpl_row(pred):\n",
    "    df = pd.DataFrame()\n",
    "    df[\"id\"] = [pred[\"id\"]]\n",
    "    df[\"fpl_points\"] = [float(pred[\"ep_next\"])]\n",
    "    df[\"gameweek\"] = [5]\n",
    "    df[\"name\"] = get_player_name(pred[\"id\"])\n",
    "    return df\n",
    "\n",
    "def make_pred_df(preds, kind=\"ours\"):\n",
    "    if kind == \"ours\":\n",
    "        f = make_our_df_row\n",
    "    elif kind == \"fpl\":\n",
    "        f = make_fpl_row\n",
    "        preds = preds.values()\n",
    "    else:\n",
    "        raise ValueError\n",
    "    return pd.concat((f(pred) for pred in preds))"
   ]
  },
  {
   "cell_type": "code",
   "execution_count": null,
   "metadata": {},
   "outputs": [],
   "source": [
    "df_our_preds = make_pred_df(our_preds, kind=\"ours\")\n",
    "df_fpl_preds = make_pred_df(fpl_preds, kind=\"fpl\")\n",
    "\n",
    "df_our_preds = df_our_preds[df_our_preds[\"gameweek\"] == 5]\n",
    "df_all = df_our_preds.merge(df_fpl_preds, left_on=\"id\", right_on=\"id\")"
   ]
  },
  {
   "cell_type": "code",
   "execution_count": null,
   "metadata": {},
   "outputs": [],
   "source": [
    "sns.distplot(df_all[\"predicted_points\"] -  df_all[\"fpl_points\"], kde=False);"
   ]
  },
  {
   "cell_type": "code",
   "execution_count": null,
   "metadata": {},
   "outputs": [],
   "source": [
    "plt.scatter(df_all[\"predicted_points\"].values, df_all[\"fpl_points\"].values)\n",
    "plt.xlabel(\"Expected points (AIrsenal)\")\n",
    "plt.ylabel(\"Expected points (FPL website)\")\n",
    "x = np.linspace(0., 7.)\n",
    "std = np.std(df_all[\"predicted_points\"] - df_all[\"fpl_points\"])\n",
    "plt.plot(x, x, ls=\"--\", c='0.5', lw=5, zorder=0.0, label=r\"$y = x$\")\n",
    "plt.plot(x, x + 2*std, ls=\"--\", c='0.7', lw=3, zorder=0.0, label=r\"$\\pm 2\\sigma\\;(\\sigma = {:.2f})$\".format(std))\n",
    "plt.plot(x, x - 2*std, ls=\"--\", c='0.7', lw=3, zorder=0.0)\n",
    "plt.legend();"
   ]
  }
 ],
 "metadata": {
  "kernelspec": {
   "display_name": "Python 3",
   "language": "python",
   "name": "python3"
  },
  "language_info": {
   "codemirror_mode": {
    "name": "ipython",
    "version": 3
   },
   "file_extension": ".py",
   "mimetype": "text/x-python",
   "name": "python",
   "nbconvert_exporter": "python",
   "pygments_lexer": "ipython3",
   "version": "3.6.2"
  }
 },
 "nbformat": 4,
 "nbformat_minor": 2
}
