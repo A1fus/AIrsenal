{
 "cells": [
  {
   "cell_type": "code",
   "execution_count": 1,
   "metadata": {},
   "outputs": [],
   "source": [
    "from airsenal.framework.utils import *\n",
    "from airsenal.framework.FPL_scoring_rules import points_for_yellow_card, points_for_red_card\n",
    "\n",
    "import pandas as pd\n",
    "import matplotlib.pyplot as plt\n",
    "import seaborn as sns\n",
    "%matplotlib inline"
   ]
  },
  {
   "cell_type": "code",
   "execution_count": 2,
   "metadata": {},
   "outputs": [],
   "source": [
    "min_minutes = 1\n",
    "max_minutes = 90\n",
    "min_matches = 10\n",
    "\n",
    "query = (\n",
    "    session.query(PlayerScore)\n",
    "    .filter(PlayerScore.minutes >= min_minutes)\n",
    "    .filter(PlayerScore.minutes <= max_minutes)\n",
    ")\n",
    "# TODO filter on gw and season\n",
    "df = pd.read_sql(query.statement, engine)\n"
   ]
  },
  {
   "cell_type": "code",
   "execution_count": 3,
   "metadata": {},
   "outputs": [
    {
     "data": {
      "text/plain": [
       "0    0.884271\n",
       "1    0.115729\n",
       "Name: yellow_cards, dtype: float64"
      ]
     },
     "execution_count": 3,
     "metadata": {},
     "output_type": "execute_result"
    }
   ],
   "source": [
    "df[\"yellow_cards\"].value_counts(normalize=True)"
   ]
  },
  {
   "cell_type": "code",
   "execution_count": 4,
   "metadata": {},
   "outputs": [
    {
     "data": {
      "text/plain": [
       "0    0.995784\n",
       "1    0.004216\n",
       "Name: red_cards, dtype: float64"
      ]
     },
     "execution_count": 4,
     "metadata": {},
     "output_type": "execute_result"
    }
   ],
   "source": [
    "df[\"red_cards\"].value_counts(normalize=True)"
   ]
  },
  {
   "cell_type": "code",
   "execution_count": 5,
   "metadata": {},
   "outputs": [],
   "source": [
    "df[\"card_pts\"] = -df[\"yellow_cards\"] - 3 * df[\"red_cards\"]"
   ]
  },
  {
   "cell_type": "code",
   "execution_count": 6,
   "metadata": {},
   "outputs": [],
   "source": [
    "card_pts = df.groupby(\"player_id\").card_pts.sum()\n",
    "\n",
    "match_counts = df.groupby(\"player_id\").card_pts.count()\n",
    "match_counts[match_counts < min_matches] = min_matches\n",
    "\n",
    "sum_cards = df.groupby(\"player_id\").card_pts.sum()\n",
    "\n",
    "avg_cards = sum_cards / match_counts"
   ]
  },
  {
   "cell_type": "code",
   "execution_count": 7,
   "metadata": {},
   "outputs": [
    {
     "data": {
      "text/html": [
       "<div>\n",
       "<style scoped>\n",
       "    .dataframe tbody tr th:only-of-type {\n",
       "        vertical-align: middle;\n",
       "    }\n",
       "\n",
       "    .dataframe tbody tr th {\n",
       "        vertical-align: top;\n",
       "    }\n",
       "\n",
       "    .dataframe thead th {\n",
       "        text-align: right;\n",
       "    }\n",
       "</style>\n",
       "<table border=\"1\" class=\"dataframe\">\n",
       "  <thead>\n",
       "    <tr style=\"text-align: right;\">\n",
       "      <th></th>\n",
       "      <th>card_pts</th>\n",
       "      <th>name</th>\n",
       "    </tr>\n",
       "    <tr>\n",
       "      <th>player_id</th>\n",
       "      <th></th>\n",
       "      <th></th>\n",
       "    </tr>\n",
       "  </thead>\n",
       "  <tbody>\n",
       "    <tr>\n",
       "      <th>956</th>\n",
       "      <td>-0.583333</td>\n",
       "      <td>Marvin Zeegelaar</td>\n",
       "    </tr>\n",
       "    <tr>\n",
       "      <th>294</th>\n",
       "      <td>-0.529412</td>\n",
       "      <td>Marcos Rojo</td>\n",
       "    </tr>\n",
       "    <tr>\n",
       "      <th>172</th>\n",
       "      <td>-0.466667</td>\n",
       "      <td>Kevin McDonald</td>\n",
       "    </tr>\n",
       "    <tr>\n",
       "      <th>1078</th>\n",
       "      <td>-0.454545</td>\n",
       "      <td>Charlie Adam</td>\n",
       "    </tr>\n",
       "    <tr>\n",
       "      <th>406</th>\n",
       "      <td>-0.437500</td>\n",
       "      <td>Juan Foyth</td>\n",
       "    </tr>\n",
       "    <tr>\n",
       "      <th>588</th>\n",
       "      <td>-0.412698</td>\n",
       "      <td>Jefferson Lerma</td>\n",
       "    </tr>\n",
       "    <tr>\n",
       "      <th>2</th>\n",
       "      <td>-0.409091</td>\n",
       "      <td>Sokratis Papastathopoulos</td>\n",
       "    </tr>\n",
       "    <tr>\n",
       "      <th>955</th>\n",
       "      <td>-0.400000</td>\n",
       "      <td>Miguel Britos</td>\n",
       "    </tr>\n",
       "    <tr>\n",
       "      <th>552</th>\n",
       "      <td>-0.400000</td>\n",
       "      <td>Konstantinos Mavropanos</td>\n",
       "    </tr>\n",
       "    <tr>\n",
       "      <th>82</th>\n",
       "      <td>-0.388889</td>\n",
       "      <td>Phil Bardsley</td>\n",
       "    </tr>\n",
       "    <tr>\n",
       "      <th>741</th>\n",
       "      <td>-0.385714</td>\n",
       "      <td>José Holebas</td>\n",
       "    </tr>\n",
       "    <tr>\n",
       "      <th>1097</th>\n",
       "      <td>-0.384615</td>\n",
       "      <td>Papa Alioune Ndiaye</td>\n",
       "    </tr>\n",
       "    <tr>\n",
       "      <th>894</th>\n",
       "      <td>-0.372881</td>\n",
       "      <td>Jonathan Hogg</td>\n",
       "    </tr>\n",
       "    <tr>\n",
       "      <th>461</th>\n",
       "      <td>-0.370370</td>\n",
       "      <td>Romain Saïss</td>\n",
       "    </tr>\n",
       "    <tr>\n",
       "      <th>334</th>\n",
       "      <td>-0.369565</td>\n",
       "      <td>Fabian Schär</td>\n",
       "    </tr>\n",
       "    <tr>\n",
       "      <th>821</th>\n",
       "      <td>-0.368421</td>\n",
       "      <td>Harry Arter</td>\n",
       "    </tr>\n",
       "    <tr>\n",
       "      <th>318</th>\n",
       "      <td>-0.352941</td>\n",
       "      <td>Brandon Williams</td>\n",
       "    </tr>\n",
       "    <tr>\n",
       "      <th>926</th>\n",
       "      <td>-0.352941</td>\n",
       "      <td>Vincent Kompany</td>\n",
       "    </tr>\n",
       "    <tr>\n",
       "      <th>382</th>\n",
       "      <td>-0.350000</td>\n",
       "      <td>Moussa Djenepo</td>\n",
       "    </tr>\n",
       "    <tr>\n",
       "      <th>174</th>\n",
       "      <td>-0.333333</td>\n",
       "      <td>Stefan Johansen</td>\n",
       "    </tr>\n",
       "  </tbody>\n",
       "</table>\n",
       "</div>"
      ],
      "text/plain": [
       "           card_pts                       name\n",
       "player_id                                     \n",
       "956       -0.583333           Marvin Zeegelaar\n",
       "294       -0.529412                Marcos Rojo\n",
       "172       -0.466667             Kevin McDonald\n",
       "1078      -0.454545               Charlie Adam\n",
       "406       -0.437500                 Juan Foyth\n",
       "588       -0.412698            Jefferson Lerma\n",
       "2         -0.409091  Sokratis Papastathopoulos\n",
       "955       -0.400000              Miguel Britos\n",
       "552       -0.400000    Konstantinos Mavropanos\n",
       "82        -0.388889              Phil Bardsley\n",
       "741       -0.385714               José Holebas\n",
       "1097      -0.384615        Papa Alioune Ndiaye\n",
       "894       -0.372881              Jonathan Hogg\n",
       "461       -0.370370               Romain Saïss\n",
       "334       -0.369565               Fabian Schär\n",
       "821       -0.368421                Harry Arter\n",
       "318       -0.352941           Brandon Williams\n",
       "926       -0.352941            Vincent Kompany\n",
       "382       -0.350000             Moussa Djenepo\n",
       "174       -0.333333            Stefan Johansen"
      ]
     },
     "execution_count": 7,
     "metadata": {},
     "output_type": "execute_result"
    }
   ],
   "source": [
    "players = pd.read_sql(session.query(Player).statement, engine)\n",
    "players.set_index(\"player_id\", inplace=True)\n",
    "\n",
    "avg_cards = pd.merge(avg_cards, players, how=\"left\", left_index=True, right_index=True)\n",
    "avg_cards.sort_values(by=\"card_pts\", ascending=True).head(20)"
   ]
  },
  {
   "cell_type": "code",
   "execution_count": null,
   "metadata": {},
   "outputs": [],
   "source": []
  }
 ],
 "metadata": {
  "kernelspec": {
   "display_name": "Python 3",
   "language": "python",
   "name": "python3"
  },
  "language_info": {
   "codemirror_mode": {
    "name": "ipython",
    "version": 3
   },
   "file_extension": ".py",
   "mimetype": "text/x-python",
   "name": "python",
   "nbconvert_exporter": "python",
   "pygments_lexer": "ipython3",
   "version": "3.7.8"
  }
 },
 "nbformat": 4,
 "nbformat_minor": 4
}
