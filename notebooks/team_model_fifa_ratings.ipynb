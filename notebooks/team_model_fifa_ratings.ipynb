{
 "cells": [
  {
   "cell_type": "markdown",
   "metadata": {},
   "source": [
    "# Effect of FIFA Ratings on Team Model"
   ]
  },
  {
   "cell_type": "code",
   "execution_count": 1,
   "metadata": {},
   "outputs": [],
   "source": [
    "from airsenal.framework.utils import NEXT_GAMEWEEK, session\n",
    "from airsenal.framework.bpl_interface import (\n",
    "    get_fitted_team_model,\n",
    "    get_result_df,\n",
    "    create_and_fit_team_model,\n",
    ")\n",
    "from airsenal.framework.season import CURRENT_SEASON, get_teams_for_season\n",
    "\n",
    "import numpy as np\n",
    "\n",
    "import matplotlib.pyplot as plt\n",
    "import seaborn as sns\n",
    "%matplotlib inline"
   ]
  },
  {
   "cell_type": "code",
   "execution_count": 2,
   "metadata": {},
   "outputs": [],
   "source": [
    "season = CURRENT_SEASON\n",
    "gameweek = NEXT_GAMEWEEK\n",
    "\n",
    "teams = get_teams_for_season(season, session)"
   ]
  },
  {
   "cell_type": "markdown",
   "metadata": {},
   "source": [
    "## Normal Model with FIFA Ratings as Covariates"
   ]
  },
  {
   "cell_type": "code",
   "execution_count": null,
   "metadata": {},
   "outputs": [
    {
     "name": "stdout",
     "output_type": "stream",
     "text": [
      "Fitting team model...\n"
     ]
    }
   ],
   "source": [
    "model_fifa = get_fitted_team_model(season, gameweek, session)"
   ]
  },
  {
   "cell_type": "code",
   "execution_count": null,
   "metadata": {},
   "outputs": [],
   "source": [
    "def plot_team_ratings(model):\n",
    "    # extract indices of current premier league teams\n",
    "    # val-1 because 1-indexed in model but 0-indexed in python\n",
    "    current_idx = {key: val-1 for key, val in model.team_indices.items()\n",
    "                   if key in teams}\n",
    "\n",
    "    a_mean = model.a.mean(axis=0)\n",
    "    b_mean = model.b.mean(axis=0)\n",
    "\n",
    "    a_conf95 = np.abs(np.quantile(model.a,[0.025, 0.975], axis=0) - a_mean)\n",
    "    b_conf95 = np.abs(np.quantile(model.b, [0.025, 0.975], axis=0) - b_mean)\n",
    "    a_conf80 = np.abs(np.quantile(model.a,[0.1, 0.9], axis=0) - a_mean)\n",
    "    b_conf80 = np.abs(np.quantile(model.b, [0.1, 0.9], axis=0) - b_mean)\n",
    "\n",
    "    fig = plt.figure(figsize=(10,10))\n",
    "    ax = fig.gca(aspect='equal')\n",
    "    plt.errorbar(a_mean[list(current_idx.values())],\n",
    "                 b_mean[list(current_idx.values())],\n",
    "                 xerr=a_conf80[:, list(current_idx.values())],\n",
    "                 yerr=b_conf80[:, list(current_idx.values())],\n",
    "                 marker='o', markersize=10,\n",
    "                 linestyle='', linewidth=0.5)\n",
    "    plt.xlabel('Attack (~Rate Goals Scored)', fontsize=14)\n",
    "    plt.ylabel('Defence (~Rate Goals Conceded)', fontsize=14)\n",
    "\n",
    "    for team, idx in current_idx.items():\n",
    "        ax.annotate(team,\n",
    "                    (a_mean[idx]-0.03, b_mean[idx]+0.02), \n",
    "                    fontsize=12)\n"
   ]
  },
  {
   "cell_type": "code",
   "execution_count": null,
   "metadata": {},
   "outputs": [],
   "source": [
    "plot_team_ratings(model_fifa)"
   ]
  },
  {
   "cell_type": "markdown",
   "metadata": {},
   "source": [
    "## Model without FIFA Ratings as Covariates"
   ]
  },
  {
   "cell_type": "code",
   "execution_count": null,
   "metadata": {},
   "outputs": [],
   "source": [
    "df_team = get_result_df(season, gameweek, session)\n",
    "df_X = None\n",
    "model_nofifa = create_and_fit_team_model(df_team, None, teams=teams)"
   ]
  },
  {
   "cell_type": "code",
   "execution_count": null,
   "metadata": {},
   "outputs": [],
   "source": [
    "plot_team_ratings(model_nofifa)"
   ]
  },
  {
   "cell_type": "markdown",
   "metadata": {},
   "source": [
    "## Difference"
   ]
  },
  {
   "cell_type": "code",
   "execution_count": null,
   "metadata": {},
   "outputs": [],
   "source": [
    "a_fifa = model_fifa.a.mean(axis=0)\n",
    "b_fifa = model_fifa.b.mean(axis=0)\n",
    "\n",
    "a_nofifa = model_nofifa.a.mean(axis=0)\n",
    "b_nofifa = model_nofifa.b.mean(axis=0)\n",
    "\n",
    "a_diff = a_fifa - a_nofifa\n",
    "b_diff = b_fifa - b_nofifa"
   ]
  },
  {
   "cell_type": "code",
   "execution_count": null,
   "metadata": {},
   "outputs": [],
   "source": [
    "fig = plt.figure(figsize=(10,10))\n",
    "ax = fig.gca(aspect='equal')\n",
    "\n",
    "current_idx = {key: val-1 for key, val in model_fifa.team_indices.items()\n",
    "               if key in teams}\n",
    "\n",
    "plt.plot(\n",
    "    a_diff[list(current_idx.values())],    \n",
    "    b_diff[list(current_idx.values())],\n",
    "    marker='o', markersize=10,\n",
    "    linestyle='', linewidth=0.5\n",
    ")\n",
    "plt.xlabel('Diff Attack', fontsize=14)\n",
    "plt.ylabel('Diff Defence', fontsize=14)\n",
    "\n",
    "for team, idx in current_idx.items():\n",
    "    ax.annotate(team,\n",
    "                (a_diff[idx], b_diff[idx]), \n",
    "                fontsize=12)\n",
    "\n",
    "plt.axvline(0, color=\"k\", linestyle=\"--\")\n",
    "plt.axhline(0, color=\"k\", linestyle=\"--\")"
   ]
  },
  {
   "cell_type": "markdown",
   "metadata": {},
   "source": [
    "- Diff Attack > 0: Including FIFA ratings causes team to have a stronger attack.\n",
    "- Diff Defence > 0: Including FIFA ratings causes team to have a weaker defence."
   ]
  },
  {
   "cell_type": "code",
   "execution_count": null,
   "metadata": {},
   "outputs": [],
   "source": []
  }
 ],
 "metadata": {
  "kernelspec": {
   "display_name": "Python 3",
   "language": "python",
   "name": "python3"
  },
  "language_info": {
   "codemirror_mode": {
    "name": "ipython",
    "version": 3
   },
   "file_extension": ".py",
   "mimetype": "text/x-python",
   "name": "python",
   "nbconvert_exporter": "python",
   "pygments_lexer": "ipython3",
   "version": "3.7.8"
  }
 },
 "nbformat": 4,
 "nbformat_minor": 2
}
